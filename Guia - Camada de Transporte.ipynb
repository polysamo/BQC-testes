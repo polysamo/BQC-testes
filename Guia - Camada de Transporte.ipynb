{
 "cells": [
  {
   "cell_type": "markdown",
   "metadata": {},
   "source": [
    "# Guia da Camada de Transporte\n",
    "### IMPORTANDO AS DEPENDÊNCIAS\n",
    "##### O documento tem o objetivo de demostrar o funcionamento da camada de transporte, além de suas funções e ferramentas.\n"
   ]
  },
  {
   "cell_type": "code",
   "execution_count": 1,
   "metadata": {},
   "outputs": [],
   "source": [
    "from quantumnet.components import Network, Host\n",
    "from quantumnet.objects import Qubit, Logger"
   ]
  },
  {
   "cell_type": "markdown",
   "metadata": {},
   "source": [
    "##### Instanciando a rede, e setando a topologia."
   ]
  },
  {
   "cell_type": "code",
   "execution_count": 2,
   "metadata": {},
   "outputs": [
    {
     "name": "stdout",
     "output_type": "stream",
     "text": [
      "Hosts inicializados\n",
      "Canais inicializados\n",
      "Pares EPRs adicionados\n"
     ]
    },
    {
     "data": {
      "image/png": "[encoded data removed]",
      "text/plain": [
       "<Figure size 640x480 with 1 Axes>"
      ]
     },
     "metadata": {},
     "output_type": "display_data"
    }
   ],
   "source": [
    "rede = Network()\n",
    "rede.set_ready_topology('grade',8,3,3)\n",
    "rede.draw()\n",
    "Logger.activate(Logger)"
   ]
  },
  {
   "cell_type": "markdown",
   "metadata": {},
   "source": [
    "##### Definindo os hosts alice e bob nos nós 1 e 2 respectivamente."
   ]
  },
  {
   "cell_type": "code",
   "execution_count": 3,
   "metadata": {},
   "outputs": [],
   "source": [
    "alice = rede.get_host(0)\n",
    "bob = rede.get_host(8)"
   ]
  },
  {
   "cell_type": "markdown",
   "metadata": {},
   "source": [
    "##### Verificação da memória de Alice e Bob."
   ]
  },
  {
   "cell_type": "code",
   "execution_count": 4,
   "metadata": {},
   "outputs": [
    {
     "name": "stdout",
     "output_type": "stream",
     "text": [
      "memoria de alice: []\n",
      "memoria de bob: []\n"
     ]
    }
   ],
   "source": [
    "print('memoria de alice:',(alice.memory))\n",
    "print('memoria de bob:',(bob.memory))"
   ]
  },
  {
   "cell_type": "markdown",
   "metadata": {},
   "source": [
    "##### A função a seguir é chamada para que seja realizada a requesição de uma rota para que haja a transmissão de n qubits necessários. Ela vai executar toda a camada de transporte."
   ]
  },
  {
   "cell_type": "code",
   "execution_count": 5,
   "metadata": {},
   "outputs": [
    {
     "name": "stderr",
     "output_type": "stream",
     "text": [
      "2024-12-16 17:03:41,451: Qubit 0 adicionado à memória do Host 0.\n",
      "2024-12-16 17:03:41,455: Qubit 0 criado com fidelidade inicial 0.9724968462045991 e adicionado à memória do Host 0.\n",
      "2024-12-16 17:03:41,457: Qubit 1 adicionado à memória do Host 0.\n",
      "2024-12-16 17:03:41,458: Qubit 1 criado com fidelidade inicial 0.9719562407078086 e adicionado à memória do Host 0.\n",
      "2024-12-16 17:03:41,459: Qubit 2 adicionado à memória do Host 0.\n",
      "2024-12-16 17:03:41,459: Qubit 2 criado com fidelidade inicial 0.99350206521201 e adicionado à memória do Host 0.\n",
      "2024-12-16 17:03:41,460: Qubit 3 adicionado à memória do Host 0.\n",
      "2024-12-16 17:03:41,461: Qubit 3 criado com fidelidade inicial 0.95703812446925 e adicionado à memória do Host 0.\n",
      "2024-12-16 17:03:41,461: Qubit 4 adicionado à memória do Host 0.\n",
      "2024-12-16 17:03:41,461: Qubit 4 criado com fidelidade inicial 0.9867805851400099 e adicionado à memória do Host 0.\n",
      "2024-12-16 17:03:41,462: Qubit 5 adicionado à memória do Host 0.\n",
      "2024-12-16 17:03:41,462: Qubit 5 criado com fidelidade inicial 0.9995405253484217 e adicionado à memória do Host 0.\n",
      "2024-12-16 17:03:41,462: Qubit 6 adicionado à memória do Host 0.\n",
      "2024-12-16 17:03:41,463: Qubit 6 criado com fidelidade inicial 0.9535088892153085 e adicionado à memória do Host 0.\n",
      "2024-12-16 17:03:41,464: Qubit 7 adicionado à memória do Host 0.\n",
      "2024-12-16 17:03:41,465: Qubit 7 criado com fidelidade inicial 0.9566973261549937 e adicionado à memória do Host 0.\n",
      "2024-12-16 17:03:41,465: Qubit 8 adicionado à memória do Host 0.\n",
      "2024-12-16 17:03:41,465: Qubit 8 criado com fidelidade inicial 0.999920896503104 e adicionado à memória do Host 0.\n",
      "2024-12-16 17:03:41,466: Qubit 9 adicionado à memória do Host 0.\n",
      "2024-12-16 17:03:41,466: Qubit 9 criado com fidelidade inicial 0.9666000095048166 e adicionado à memória do Host 0.\n",
      "2024-12-16 17:03:41,468: Rota válida encontrada: [0, 3, 6, 7, 8]\n",
      "2024-12-16 17:03:41,471: Etapa de retorno: consumindo EPRs existentes na rota [0, 3, 6, 7, 8].\n",
      "2024-12-16 17:03:41,473: Fidelidade do EPR 0->3: 1.0\n",
      "2024-12-16 17:03:41,475: Fidelidade do EPR 3->6: 1.0\n",
      "2024-12-16 17:03:41,476: Fidelidade do EPR 6->7: 1.0\n",
      "2024-12-16 17:03:41,478: Fidelidade do EPR 7->8: 1.0\n",
      "2024-12-16 17:03:41,480: Produto das fidelidades para rota [0, 3, 6, 7, 8]: 1.0\n",
      "2024-12-16 17:03:41,481: Fidelidade atual da rota: 1.0\n",
      "2024-12-16 17:03:41,482: Pares EPRs restantes no segmento 0 -> 3: 1\n",
      "2024-12-16 17:03:41,482: Pares EPRs restantes no segmento 3 -> 6: 1\n",
      "2024-12-16 17:03:41,484: Pares EPRs restantes no segmento 6 -> 7: 1\n",
      "2024-12-16 17:03:41,489: Pares EPRs restantes no segmento 7 -> 8: 1\n",
      "2024-12-16 17:03:41,494: Fidelidade final: 0.9358 (F_qubit: 0.9358 * F_rota: 1.0000)\n",
      "2024-12-16 17:03:41,497: Fidelidade do EPR 0->3: 0.999\n",
      "2024-12-16 17:03:41,500: Fidelidade do EPR 3->6: 0.999\n",
      "2024-12-16 17:03:41,501: Fidelidade do EPR 6->7: 0.999\n",
      "2024-12-16 17:03:41,502: Fidelidade do EPR 7->8: 0.999\n",
      "2024-12-16 17:03:41,504: Produto das fidelidades para rota [0, 3, 6, 7, 8]: 0.996005996001\n",
      "2024-12-16 17:03:41,508: Fidelidade atual da rota: 0.996005996001\n",
      "2024-12-16 17:03:41,510: Pares EPRs restantes no segmento 0 -> 3: 0\n",
      "2024-12-16 17:03:41,511: Pares EPRs restantes no segmento 3 -> 6: 0\n",
      "2024-12-16 17:03:41,512: Pares EPRs restantes no segmento 6 -> 7: 0\n",
      "2024-12-16 17:03:41,516: Pares EPRs restantes no segmento 7 -> 8: 0\n",
      "2024-12-16 17:03:41,519: Fidelidade final: 0.9553 (F_qubit: 0.9591 * F_rota: 0.9960)\n",
      "2024-12-16 17:03:41,522: Sem pares EPR disponíveis no canal 0->3. Fidelidade = 0.\n",
      "2024-12-16 17:03:41,524: Fidelidade atual da rota: 0.0\n",
      "2024-12-16 17:03:41,524: Fidelidade da rota 0.00 abaixo de 0.85. Interrompendo transmissão.\n",
      "2024-12-16 17:03:41,525: Foram utilizados 8 pares EPRs ao longo da transmissão.\n",
      "2024-12-16 17:03:41,526: Estado final dos EPRs restantes na rota:\n",
      "2024-12-16 17:03:41,528: Segmento 0 -> 3: 0 pares EPRs restantes.\n",
      "2024-12-16 17:03:41,530: Segmento 3 -> 6: 0 pares EPRs restantes.\n",
      "2024-12-16 17:03:41,530: Segmento 6 -> 7: 0 pares EPRs restantes.\n",
      "2024-12-16 17:03:41,531: Segmento 7 -> 8: 0 pares EPRs restantes.\n",
      "2024-12-16 17:03:41,531: Transmissão falhou. Apenas 2 qubits foram transmitidos com sucesso.\n"
     ]
    },
    {
     "data": {
      "text/plain": [
       "False"
      ]
     },
     "execution_count": 5,
     "metadata": {},
     "output_type": "execute_result"
    }
   ],
   "source": [
    "# rede.transportlayer.run_transport_layer(0,8,11)\n",
    "rede.transportlayer.run_transport_layer_eprs(0,8,10)"
   ]
  },
  {
   "cell_type": "code",
   "execution_count": 6,
   "metadata": {},
   "outputs": [
    {
     "name": "stderr",
     "output_type": "stream",
     "text": [
      "2024-12-16 17:03:41,585: Eprs usados na camada PhysicalLayer: 0\n",
      "2024-12-16 17:03:41,591: Eprs usados na camada LinkLayer: 0\n",
      "2024-12-16 17:03:41,599: Eprs usados na camada NetworkLayer: 0\n",
      "2024-12-16 17:03:41,600: Eprs usados na camada ApplicationLayer: 8\n"
     ]
    },
    {
     "data": {
      "text/plain": [
       "8"
      ]
     },
     "execution_count": 6,
     "metadata": {},
     "output_type": "execute_result"
    }
   ],
   "source": [
    "rede.get_total_useds_eprs()"
   ]
  },
  {
   "cell_type": "markdown",
   "metadata": {},
   "source": [
    "##### A função get_total_useds_qubits, será usada para mostrar quantos qubits foram usados na camada de Transporte."
   ]
  },
  {
   "cell_type": "code",
   "execution_count": 7,
   "metadata": {},
   "outputs": [
    {
     "name": "stderr",
     "output_type": "stream",
     "text": [
      "2024-12-16 17:03:41,683: Qubits usados na camada PhysicalLayer: 10\n",
      "2024-12-16 17:03:41,689: Qubits usados na camada LinkLayer: 0\n",
      "2024-12-16 17:03:41,693: Qubits usados na camada TransportLayer: 0\n",
      "2024-12-16 17:03:41,693: Qubits usados na camada ApplicationLayer: 0\n"
     ]
    },
    {
     "data": {
      "text/plain": [
       "10"
      ]
     },
     "execution_count": 7,
     "metadata": {},
     "output_type": "execute_result"
    }
   ],
   "source": [
    "rede.get_total_useds_qubits()"
   ]
  },
  {
   "cell_type": "markdown",
   "metadata": {},
   "source": [
    "##### Essa função apresenta uma lista de métricas do transmissão dos qubits."
   ]
  },
  {
   "cell_type": "code",
   "execution_count": 8,
   "metadata": {},
   "outputs": [
    {
     "data": {
      "text/plain": [
       "[]"
      ]
     },
     "execution_count": 8,
     "metadata": {},
     "output_type": "execute_result"
    }
   ],
   "source": [
    "rede.transportlayer.get_teleported_qubits()"
   ]
  },
  {
   "cell_type": "markdown",
   "metadata": {},
   "source": [
    "##### No avg_fidelity_on_ltransportlayer, é realizada o cálculo da média da fidelidade dos ERPs criados na camada de Transporte."
   ]
  },
  {
   "cell_type": "code",
   "execution_count": 9,
   "metadata": {},
   "outputs": [
    {
     "name": "stderr",
     "output_type": "stream",
     "text": [
      "2024-12-16 17:03:41,871: Nenhum qubit foi utilizado na camada de transporte.\n"
     ]
    },
    {
     "data": {
      "text/plain": [
       "0.0"
      ]
     },
     "execution_count": 9,
     "metadata": {},
     "output_type": "execute_result"
    }
   ],
   "source": [
    "rede.transportlayer.avg_fidelity_on_transportlayer()"
   ]
  },
  {
   "cell_type": "markdown",
   "metadata": {},
   "source": [
    "##### A função get_timeslot apresenta quantos timeslot se passaram durante a execução da camada."
   ]
  },
  {
   "cell_type": "code",
   "execution_count": 10,
   "metadata": {},
   "outputs": [
    {
     "data": {
      "text/plain": [
       "2"
      ]
     },
     "execution_count": 10,
     "metadata": {},
     "output_type": "execute_result"
    }
   ],
   "source": [
    "rede.get_timeslot()"
   ]
  },
  {
   "cell_type": "markdown",
   "metadata": {},
   "source": [
    "##### Por meio do display_all_qubits_timeslot, pode-se verificar em qual timeslot cada qubit foi criado."
   ]
  },
  {
   "cell_type": "code",
   "execution_count": 11,
   "metadata": {},
   "outputs": [
    {
     "name": "stdout",
     "output_type": "stream",
     "text": [
      "Qubit 0 foi criado no timeslot 0\n",
      "Qubit 1 foi criado no timeslot 0\n",
      "Qubit 2 foi criado no timeslot 0\n",
      "Qubit 3 foi criado no timeslot 0\n",
      "Qubit 4 foi criado no timeslot 0\n",
      "Qubit 5 foi criado no timeslot 0\n",
      "Qubit 6 foi criado no timeslot 0\n",
      "Qubit 7 foi criado no timeslot 0\n",
      "Qubit 8 foi criado no timeslot 0\n",
      "Qubit 9 foi criado no timeslot 0\n"
     ]
    }
   ],
   "source": [
    "rede.display_all_qubit_timeslots()"
   ]
  }
 ],
 "metadata": {
  "kernelspec": {
   "display_name": "quantumnetenv",
   "language": "python",
   "name": "python3"
  },
  "language_info": {
   "codemirror_mode": {
    "name": "ipython",
    "version": 3
   },
   "file_extension": ".py",
   "mimetype": "text/x-python",
   "name": "python",
   "nbconvert_exporter": "python",
   "pygments_lexer": "ipython3",
   "version": "3.12.3"
  }
 },
 "nbformat": 4,
 "nbformat_minor": 2
}
