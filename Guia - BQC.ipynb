{
 "cells": [
  {
   "cell_type": "markdown",
   "metadata": {},
   "source": [
    "# Guia do funcionamento da Simulação do Blind Quantum Computing\n",
    "##### O documento tem o objetivo de demostrar o funcionamento da simulação dos protocolos Childs e BFK no BQC.\n",
    "#### IMPORTANDO AS DEPENDÊNCIAS\n"
   ]
  },
  {
   "cell_type": "code",
   "execution_count": 1,
   "metadata": {},
   "outputs": [],
   "source": [
    "import random\n",
    "from quantumnet.components import Network, Host\n",
    "from quantumnet.components import ServerNode, ClientNode, RegularNode\n",
    "from quantumnet.objects import Qubit, Logger"
   ]
  },
  {
   "cell_type": "markdown",
   "metadata": {},
   "source": [
    "##### É inicializada a rede, com uma topologia de grade, que apresenta 1 servidor (nó verde) e 8 clientes (nós vermelhos)."
   ]
  },
  {
   "cell_type": "code",
   "execution_count": 2,
   "metadata": {},
   "outputs": [
    {
     "name": "stdout",
     "output_type": "stream",
     "text": [
      "Hosts inicializados\n",
      "Canais inicializados\n",
      "Pares EPRs adicionados\n"
     ]
    },
    {
     "data": {
      "image/png": "[encoded data removed]",
      "text/plain": [
       "<Figure size 640x480 with 1 Axes>"
      ]
     },
     "metadata": {},
     "output_type": "display_data"
    }
   ],
   "source": [
    "rede = Network()\n",
    "rede.set_ready_topology('grade',8,3,3)  # Exemplo de uma grade 3x3 com  clientes e 1 servidor\n",
    "rede.draw()\n",
    "Logger.activate(Logger)"
   ]
  },
  {
   "cell_type": "markdown",
   "metadata": {},
   "source": [
    "##### A realização da simulação de uma requesição acontece de forma em que vamos passar uma função para a geração de um circuito aleatório com o número de qubits e número de portas passados como parâmetros e a escolha de um protocolo para executar esse circuito. O protocolo escolhido foi o AC_BQC, Childs, e o cliente é (alice_id)."
   ]
  },
  {
   "cell_type": "code",
   "execution_count": 3,
   "metadata": {},
   "outputs": [
    {
     "name": "stdout",
     "output_type": "stream",
     "text": [
      "          ┌───┐     ┌───┐┌───┐┌───┐             ┌───┐                 ┌───┐   \n",
      "q_0: ──■──┤ S ├──■──┤ T ├┤ H ├┤ X ├───────────■─┤ Z ├───────────■───■─┤ X ├─■─\n",
      "       │  └───┘  │  └───┘└───┘└───┘┌───┐┌───┐ │ └───┘         ┌─┴─┐ │ └───┘ │ \n",
      "q_1: ──┼─────────┼────X─────────■──┤ X ├┤ X ├─■───■───■──■──X─┤ X ├─┼───────┼─\n",
      "     ┌─┴─┐       │    │  ┌───┐┌─┴─┐├───┤└─┬─┘     │   │  │  │ ├───┤ │       │ \n",
      "q_2: ┤ X ├───────■────X──┤ X ├┤ X ├┤ X ├──■───────┼───┼──■──┼─┤ H ├─┼───────┼─\n",
      "     ├───┤┌───┐┌───┐     └───┘└───┘└─┬─┘          │   │     │ └───┘ │       │ \n",
      "q_3: ┤ T ├┤ Z ├┤ Z ├──■──────────────■────────────┼───┼─────┼───────┼───────┼─\n",
      "     ├───┤├───┤└───┘┌─┴─┐┌───┐                  ┌─┴─┐ │     │       │       │ \n",
      "q_4: ┤ S ├┤ T ├─────┤ X ├┤ S ├──────────────────┤ X ├─■─────X───────■───────■─\n",
      "     └───┘└───┘     └───┘└───┘                  └───┘                         \n"
     ]
    },
    {
     "name": "stderr",
     "output_type": "stream",
     "text": [
      "2024-12-23 11:01:07,432: Circuito aleatório gerado com 5 qubits e 30 portas. Instruções sobre o circuito.\n",
      "2024-12-23 11:01:07,432: Instrução: {'operation': 'cx', 'qubits': [0, 2]}\n",
      "2024-12-23 11:01:07,432: Instrução: {'operation': 's', 'qubits': [0]}\n",
      "2024-12-23 11:01:07,432: Instrução: {'operation': 'cz', 'qubits': [2, 0]}\n",
      "2024-12-23 11:01:07,432: Instrução: {'operation': 't', 'qubits': [0]}\n",
      "2024-12-23 11:01:07,432: Instrução: {'operation': 't', 'qubits': [3]}\n",
      "2024-12-23 11:01:07,432: Instrução: {'operation': 'z', 'qubits': [3]}\n",
      "2024-12-23 11:01:07,432: Instrução: {'operation': 's', 'qubits': [4]}\n",
      "2024-12-23 11:01:07,432: Instrução: {'operation': 'swap', 'qubits': [1, 2]}\n",
      "2024-12-23 11:01:07,432: Instrução: {'operation': 'x', 'qubits': [2]}\n",
      "2024-12-23 11:01:07,432: Instrução: {'operation': 'z', 'qubits': [3]}\n",
      "2024-12-23 11:01:07,432: Instrução: {'operation': 't', 'qubits': [4]}\n",
      "2024-12-23 11:01:07,432: Instrução: {'operation': 'cx', 'qubits': [3, 4]}\n",
      "2024-12-23 11:01:07,432: Instrução: {'operation': 'cx', 'qubits': [1, 2]}\n",
      "2024-12-23 11:01:07,432: Instrução: {'operation': 'x', 'qubits': [1]}\n",
      "2024-12-23 11:01:07,447: Instrução: {'operation': 'h', 'qubits': [0]}\n",
      "2024-12-23 11:01:07,447: Instrução: {'operation': 'cx', 'qubits': [3, 2]}\n",
      "2024-12-23 11:01:07,448: Instrução: {'operation': 's', 'qubits': [4]}\n",
      "2024-12-23 11:01:07,448: Instrução: {'operation': 'x', 'qubits': [0]}\n",
      "2024-12-23 11:01:07,449: Instrução: {'operation': 'cx', 'qubits': [2, 1]}\n",
      "2024-12-23 11:01:07,450: Instrução: {'operation': 'cz', 'qubits': [0, 1]}\n",
      "2024-12-23 11:01:07,450: Instrução: {'operation': 'cx', 'qubits': [1, 4]}\n",
      "2024-12-23 11:01:07,464: Instrução: {'operation': 'cz', 'qubits': [1, 4]}\n",
      "2024-12-23 11:01:07,466: Instrução: {'operation': 'z', 'qubits': [0]}\n",
      "2024-12-23 11:01:07,467: Instrução: {'operation': 'cz', 'qubits': [2, 1]}\n",
      "2024-12-23 11:01:07,467: Instrução: {'operation': 'swap', 'qubits': [4, 1]}\n",
      "2024-12-23 11:01:07,468: Instrução: {'operation': 'cx', 'qubits': [0, 1]}\n",
      "2024-12-23 11:01:07,469: Instrução: {'operation': 'cz', 'qubits': [4, 0]}\n",
      "2024-12-23 11:01:07,497: Instrução: {'operation': 'x', 'qubits': [0]}\n",
      "2024-12-23 11:01:07,498: Instrução: {'operation': 'cz', 'qubits': [4, 0]}\n",
      "2024-12-23 11:01:07,498: Instrução: {'operation': 'h', 'qubits': [2]}\n",
      "2024-12-23 11:01:07,498: Timeslot 1: Iniciando protocolo Andrew Childs entre Alice 6 e Bob 0.\n",
      "2024-12-23 11:01:07,498: Limpando a memória do cliente (Alice) antes de iniciar o protocolo.\n",
      "2024-12-23 11:01:07,502: Limpando a memória do servidor (Bob) antes de iniciar o protocolo.\n",
      "2024-12-23 11:01:07,502: Cliente criou 5 qubits para a transmissão.\n",
      "2024-12-23 11:01:07,502: Qubit 100 registrado no timeslot 1\n",
      "2024-12-23 11:01:07,502: Qubit 698 registrado no timeslot 1\n",
      "2024-12-23 11:01:07,502: Qubit 948 registrado no timeslot 1\n",
      "2024-12-23 11:01:07,502: Qubit 937 registrado no timeslot 1\n",
      "2024-12-23 11:01:07,502: Qubit 960 registrado no timeslot 1\n",
      "2024-12-23 11:01:07,502: Qubit 100 criado pelo Cliente - Estado: 0, Fase: 1\n",
      "2024-12-23 11:01:07,502: Qubit 698 criado pelo Cliente - Estado: 0, Fase: 1\n",
      "2024-12-23 11:01:07,502: Qubit 948 criado pelo Cliente - Estado: 0, Fase: 1\n",
      "2024-12-23 11:01:07,502: Qubit 937 criado pelo Cliente - Estado: 0, Fase: 1\n",
      "2024-12-23 11:01:07,502: Qubit 960 criado pelo Cliente - Estado: 0, Fase: 1\n",
      "2024-12-23 11:01:07,502: Alice recebeu 5 qubits. Total: 5 qubits na memória.\n",
      "2024-12-23 11:01:07,502: Instruções clássicas enviadas pelo Cliente: ['Z', 'Y', 'X', 'Z', 'X']\n",
      "2024-12-23 11:01:07,514: Timeslot 3: Buscando rota válida entre 6 e 0.\n",
      "2024-12-23 11:01:07,515: Rota válida encontrada: [6, 3, 0]\n",
      "2024-12-23 11:01:07,516: Rota calculada para o transporte: [6, 3, 0]\n",
      "2024-12-23 11:01:07,517: Timeslot 3: Limpando pares EPRs residuais antes de iniciar o protocolo.\n",
      "2024-12-23 11:01:07,517: Pares EPRs limpos no segmento 6 -> 3.\n",
      "2024-12-23 11:01:07,518: Pares EPRs limpos no segmento 3 -> 0.\n",
      "2024-12-23 11:01:07,518: Usando a rota fornecida: [6, 3, 0]\n",
      "2024-12-23 11:01:07,519: Ida: Criando 5 pares EPRs no segmento 6 -> 3.\n",
      "2024-12-23 11:01:07,519: Par EPR <quantumnet.objects.epr.Epr object at 0x000001D56EED3F50> adicionado ao canal (6, 3).\n",
      "2024-12-23 11:01:07,520: Par EPR <quantumnet.objects.epr.Epr object at 0x000001D570403D90> adicionado ao canal (6, 3).\n",
      "2024-12-23 11:01:07,520: Par EPR <quantumnet.objects.epr.Epr object at 0x000001D5704144D0> adicionado ao canal (6, 3).\n",
      "2024-12-23 11:01:07,523: Par EPR <quantumnet.objects.epr.Epr object at 0x000001D56F243610> adicionado ao canal (6, 3).\n",
      "2024-12-23 11:01:07,523: Par EPR <quantumnet.objects.epr.Epr object at 0x000001D57042E2D0> adicionado ao canal (6, 3).\n",
      "2024-12-23 11:01:07,531: Ida: Criando 5 pares EPRs no segmento 3 -> 0.\n",
      "2024-12-23 11:01:07,535: Par EPR <quantumnet.objects.epr.Epr object at 0x000001D56EEBA790> adicionado ao canal (3, 0).\n",
      "2024-12-23 11:01:07,535: Par EPR <quantumnet.objects.epr.Epr object at 0x000001D570452750> adicionado ao canal (3, 0).\n",
      "2024-12-23 11:01:07,535: Par EPR <quantumnet.objects.epr.Epr object at 0x000001D56EF26310> adicionado ao canal (3, 0).\n",
      "2024-12-23 11:01:07,535: Par EPR <quantumnet.objects.epr.Epr object at 0x000001D57046F9D0> adicionado ao canal (3, 0).\n",
      "2024-12-23 11:01:07,535: Par EPR <quantumnet.objects.epr.Epr object at 0x000001D57038CED0> adicionado ao canal (3, 0).\n",
      "2024-12-23 11:01:07,535: Fidelidade do EPR 6->3: 1.0\n",
      "2024-12-23 11:01:07,535: Fidelidade do EPR 3->0: 1.0\n",
      "2024-12-23 11:01:07,535: Produto das fidelidades para rota [6, 3, 0]: 1.0\n",
      "2024-12-23 11:01:07,535: Fidelidade atual da rota: 1.0\n",
      "2024-12-23 11:01:07,535: Pares EPRs restantes no segmento 6 -> 3: 4\n",
      "2024-12-23 11:01:07,535: Pares EPRs restantes no segmento 3 -> 0: 4\n",
      "2024-12-23 11:01:07,535: Fidelidade final: 0.9193 (F_qubit: 0.9193 * F_rota: 1.0000)\n",
      "2024-12-23 11:01:07,535: Fidelidade do EPR 6->3: 0.9991125\n",
      "2024-12-23 11:01:07,535: Fidelidade do EPR 3->0: 0.9991125\n",
      "2024-12-23 11:01:07,535: Produto das fidelidades para rota [6, 3, 0]: 0.9982257876562499\n",
      "2024-12-23 11:01:07,535: Fidelidade atual da rota: 0.9982257876562499\n",
      "2024-12-23 11:01:07,535: Pares EPRs restantes no segmento 6 -> 3: 3\n",
      "2024-12-23 11:01:07,535: Pares EPRs restantes no segmento 3 -> 0: 3\n",
      "2024-12-23 11:01:07,535: Fidelidade final: 0.9178 (F_qubit: 0.9194 * F_rota: 0.9982)\n",
      "2024-12-23 11:01:07,535: Fidelidade do EPR 6->3: 0.9982257876562499\n",
      "2024-12-23 11:01:07,535: Fidelidade do EPR 3->0: 0.9982257876562499\n",
      "2024-12-23 11:01:07,535: Produto das fidelidades para rota [6, 3, 0]: 0.9964547231419405\n",
      "2024-12-23 11:01:07,535: Fidelidade atual da rota: 0.9964547231419405\n",
      "2024-12-23 11:01:07,548: Pares EPRs restantes no segmento 6 -> 3: 2\n",
      "2024-12-23 11:01:07,548: Pares EPRs restantes no segmento 3 -> 0: 2\n",
      "2024-12-23 11:01:07,548: Fidelidade final: 0.9817 (F_qubit: 0.9852 * F_rota: 0.9965)\n",
      "2024-12-23 11:01:07,548: Fidelidade do EPR 6->3: 0.997339862269705\n",
      "2024-12-23 11:01:07,548: Fidelidade do EPR 3->0: 0.997339862269705\n",
      "2024-12-23 11:01:07,548: Produto das fidelidades para rota [6, 3, 0]: 0.994686800872154\n",
      "2024-12-23 11:01:07,548: Fidelidade atual da rota: 0.994686800872154\n",
      "2024-12-23 11:01:07,548: Pares EPRs restantes no segmento 6 -> 3: 1\n",
      "2024-12-23 11:01:07,548: Pares EPRs restantes no segmento 3 -> 0: 1\n",
      "2024-12-23 11:01:07,548: Fidelidade final: 0.9518 (F_qubit: 0.9568 * F_rota: 0.9947)\n",
      "2024-12-23 11:01:07,548: Fidelidade do EPR 6->3: 0.9964547231419406\n",
      "2024-12-23 11:01:07,548: Fidelidade do EPR 3->0: 0.9964547231419406\n",
      "2024-12-23 11:01:07,548: Produto das fidelidades para rota [6, 3, 0]: 0.9929220152718815\n",
      "2024-12-23 11:01:07,548: Fidelidade atual da rota: 0.9929220152718815\n",
      "2024-12-23 11:01:07,548: Pares EPRs restantes no segmento 6 -> 3: 0\n",
      "2024-12-23 11:01:07,548: Pares EPRs restantes no segmento 3 -> 0: 0\n",
      "2024-12-23 11:01:07,548: Fidelidade final: 0.9338 (F_qubit: 0.9404 * F_rota: 0.9929)\n",
      "2024-12-23 11:01:07,548: Foram utilizados 10 pares EPRs ao longo da transmissão.\n",
      "2024-12-23 11:01:07,548: Estado final dos EPRs restantes na rota:\n",
      "2024-12-23 11:01:07,548: Segmento 6 -> 3: 0 pares EPRs restantes.\n",
      "2024-12-23 11:01:07,548: Segmento 3 -> 0: 0 pares EPRs restantes.\n",
      "2024-12-23 11:01:07,548: Transmissão de 5 qubits entre 6 e 0 concluída com sucesso.\n",
      "2024-12-23 11:01:07,548: Cliente enviou 5 qubits para o Servidor.\n",
      "2024-12-23 11:01:07,548: Servidor tem 5 qubits na memória após a recepção.\n",
      "2024-12-23 11:01:07,548: Servidor aplicou as operações instruídas pelo Cliente nos qubits.\n",
      "2024-12-23 11:01:07,548: Qubit 100 após operações de Servidor - Estado: 0, Fase: 1\n",
      "2024-12-23 11:01:07,548: Qubit 698 após operações de Servidor - Estado: 1, Fase: -1\n",
      "2024-12-23 11:01:07,548: Qubit 948 após operações de Servidor - Estado: 1, Fase: 1\n",
      "2024-12-23 11:01:07,548: Qubit 937 após operações de Servidor - Estado: 0, Fase: 1\n",
      "2024-12-23 11:01:07,564: Qubit 960 após operações de Servidor - Estado: 1, Fase: 1\n",
      "2024-12-23 11:01:07,564: Limpando a memória do cliente antes de receber os qubits devolvidos.\n",
      "2024-12-23 11:01:07,564: Usando a rota fornecida: [0, 3, 6]\n",
      "2024-12-23 11:01:07,564: Volta: Criando 5 pares EPRs no segmento 0 -> 3.\n",
      "2024-12-23 11:01:07,564: Par EPR <quantumnet.objects.epr.Epr object at 0x000001D5703B5150> adicionado ao canal (0, 3).\n",
      "2024-12-23 11:01:07,564: Par EPR <quantumnet.objects.epr.Epr object at 0x000001D57045DC50> adicionado ao canal (0, 3).\n",
      "2024-12-23 11:01:07,564: Par EPR <quantumnet.objects.epr.Epr object at 0x000001D5703D4850> adicionado ao canal (0, 3).\n",
      "2024-12-23 11:01:07,564: Par EPR <quantumnet.objects.epr.Epr object at 0x000001D56F242B10> adicionado ao canal (0, 3).\n",
      "2024-12-23 11:01:07,564: Par EPR <quantumnet.objects.epr.Epr object at 0x000001D57046FC10> adicionado ao canal (0, 3).\n",
      "2024-12-23 11:01:07,564: Volta: Criando 5 pares EPRs no segmento 3 -> 6.\n",
      "2024-12-23 11:01:07,564: Par EPR <quantumnet.objects.epr.Epr object at 0x000001D57046F9D0> adicionado ao canal (3, 6).\n",
      "2024-12-23 11:01:07,564: Par EPR <quantumnet.objects.epr.Epr object at 0x000001D570423650> adicionado ao canal (3, 6).\n",
      "2024-12-23 11:01:07,564: Par EPR <quantumnet.objects.epr.Epr object at 0x000001D5703E0510> adicionado ao canal (3, 6).\n",
      "2024-12-23 11:01:07,564: Par EPR <quantumnet.objects.epr.Epr object at 0x000001D5703C3450> adicionado ao canal (3, 6).\n",
      "2024-12-23 11:01:07,564: Par EPR <quantumnet.objects.epr.Epr object at 0x000001D5703F3610> adicionado ao canal (3, 6).\n",
      "2024-12-23 11:01:07,564: Fidelidade do EPR 0->3: 1.0\n",
      "2024-12-23 11:01:07,564: Fidelidade do EPR 3->6: 1.0\n",
      "2024-12-23 11:01:07,564: Produto das fidelidades para rota [0, 3, 6]: 1.0\n",
      "2024-12-23 11:01:07,564: Fidelidade atual da rota: 1.0\n",
      "2024-12-23 11:01:07,564: Pares EPRs restantes no segmento 0 -> 3: 4\n",
      "2024-12-23 11:01:07,564: Pares EPRs restantes no segmento 3 -> 6: 4\n",
      "2024-12-23 11:01:07,564: Fidelidade final: 0.9144 (F_qubit: 0.9144 * F_rota: 1.0000)\n",
      "2024-12-23 11:01:07,564: Fidelidade do EPR 0->3: 0.9991125\n",
      "2024-12-23 11:01:07,564: Fidelidade do EPR 3->6: 0.9991125\n",
      "2024-12-23 11:01:07,564: Produto das fidelidades para rota [0, 3, 6]: 0.9982257876562499\n",
      "2024-12-23 11:01:07,564: Fidelidade atual da rota: 0.9982257876562499\n",
      "2024-12-23 11:01:07,564: Pares EPRs restantes no segmento 0 -> 3: 3\n",
      "2024-12-23 11:01:07,564: Pares EPRs restantes no segmento 3 -> 6: 3\n",
      "2024-12-23 11:01:07,564: Fidelidade final: 0.9129 (F_qubit: 0.9145 * F_rota: 0.9982)\n",
      "2024-12-23 11:01:07,564: Fidelidade do EPR 0->3: 0.9982257876562499\n",
      "2024-12-23 11:01:07,580: Fidelidade do EPR 3->6: 0.9982257876562499\n",
      "2024-12-23 11:01:07,581: Produto das fidelidades para rota [0, 3, 6]: 0.9964547231419405\n",
      "2024-12-23 11:01:07,581: Fidelidade atual da rota: 0.9964547231419405\n",
      "2024-12-23 11:01:07,581: Pares EPRs restantes no segmento 0 -> 3: 2\n",
      "2024-12-23 11:01:07,581: Pares EPRs restantes no segmento 3 -> 6: 2\n",
      "2024-12-23 11:01:07,581: Fidelidade final: 0.9765 (F_qubit: 0.9799 * F_rota: 0.9965)\n",
      "2024-12-23 11:01:07,581: Fidelidade do EPR 0->3: 0.997339862269705\n",
      "2024-12-23 11:01:07,581: Fidelidade do EPR 3->6: 0.997339862269705\n",
      "2024-12-23 11:01:07,581: Produto das fidelidades para rota [0, 3, 6]: 0.994686800872154\n",
      "2024-12-23 11:01:07,581: Fidelidade atual da rota: 0.994686800872154\n",
      "2024-12-23 11:01:07,581: Pares EPRs restantes no segmento 0 -> 3: 1\n",
      "2024-12-23 11:01:07,581: Pares EPRs restantes no segmento 3 -> 6: 1\n",
      "2024-12-23 11:01:07,581: Fidelidade final: 0.9467 (F_qubit: 0.9518 * F_rota: 0.9947)\n",
      "2024-12-23 11:01:07,581: Fidelidade do EPR 0->3: 0.9964547231419406\n",
      "2024-12-23 11:01:07,581: Fidelidade do EPR 3->6: 0.9964547231419406\n",
      "2024-12-23 11:01:07,581: Produto das fidelidades para rota [0, 3, 6]: 0.9929220152718815\n",
      "2024-12-23 11:01:07,581: Fidelidade atual da rota: 0.9929220152718815\n",
      "2024-12-23 11:01:07,581: Pares EPRs restantes no segmento 0 -> 3: 0\n",
      "2024-12-23 11:01:07,581: Pares EPRs restantes no segmento 3 -> 6: 0\n",
      "2024-12-23 11:01:07,581: Fidelidade final: 0.9288 (F_qubit: 0.9354 * F_rota: 0.9929)\n",
      "2024-12-23 11:01:07,581: Foram utilizados 10 pares EPRs ao longo da transmissão.\n",
      "2024-12-23 11:01:07,581: Estado final dos EPRs restantes na rota:\n",
      "2024-12-23 11:01:07,581: Segmento 0 -> 3: 0 pares EPRs restantes.\n",
      "2024-12-23 11:01:07,581: Segmento 3 -> 6: 0 pares EPRs restantes.\n",
      "2024-12-23 11:01:07,581: Transmissão de 5 qubits entre 0 e 6 concluída com sucesso.\n",
      "2024-12-23 11:01:07,581: Servidor devolveu 0 qubits para o cliente.\n",
      "2024-12-23 11:01:07,581: Qubit 100 devolvido para o cliente - Estado: 0, Fase: 1\n",
      "2024-12-23 11:01:07,597: Qubit 698 devolvido para o cliente - Estado: 1, Fase: -1\n",
      "2024-12-23 11:01:07,598: Qubit 948 devolvido para o cliente - Estado: 1, Fase: 1\n",
      "2024-12-23 11:01:07,598: Qubit 937 devolvido para o cliente - Estado: 0, Fase: 1\n",
      "2024-12-23 11:01:07,598: Qubit 960 devolvido para o cliente - Estado: 1, Fase: 1\n",
      "2024-12-23 11:01:07,598: Cliente aplicou a decodificação Clifford no qubit 100.\n",
      "2024-12-23 11:01:07,598: Cliente aplicou a decodificação Clifford no qubit 698.\n",
      "2024-12-23 11:01:07,598: Cliente aplicou a decodificação Clifford no qubit 948.\n",
      "2024-12-23 11:01:07,602: Cliente aplicou a decodificação Clifford no qubit 937.\n",
      "2024-12-23 11:01:07,602: Cliente aplicou a decodificação Clifford no qubit 960.\n",
      "2024-12-23 11:01:07,602: Protocolo concluído com sucesso. O cliente tem 5 qubits decodificados.\n"
     ]
    },
    {
     "data": {
      "text/plain": [
       "[<quantumnet.objects.qubit.Qubit at 0x1d56eeebe50>,\n",
       " <quantumnet.objects.qubit.Qubit at 0x1d56f241490>,\n",
       " <quantumnet.objects.qubit.Qubit at 0x1d56f2e8b50>,\n",
       " <quantumnet.objects.qubit.Qubit at 0x1d570402490>,\n",
       " <quantumnet.objects.qubit.Qubit at 0x1d56ef312d0>]"
      ]
     },
     "execution_count": 3,
     "metadata": {},
     "output_type": "execute_result"
    }
   ],
   "source": [
    "circuit, num_qubits = rede.generate_random_circuit(num_qubits=5, num_gates=30) \n",
    "rede.application_layer.run_app(\"AC_BQC\", alice_id=6, bob_id=0, num_qubits=num_qubits,scenario=2)"
   ]
  },
  {
   "cell_type": "code",
   "execution_count": 4,
   "metadata": {},
   "outputs": [
    {
     "name": "stdout",
     "output_type": "stream",
     "text": [
      "A média das fidelidades das rotas é: 0.9384\n"
     ]
    },
    {
     "data": {
      "text/plain": [
       "0.9383555182457167"
      ]
     },
     "execution_count": 4,
     "metadata": {},
     "output_type": "execute_result"
    }
   ],
   "source": [
    "rede.application_layer.avg_fidelity_on_applicationlayer()"
   ]
  },
  {
   "cell_type": "code",
   "execution_count": 5,
   "metadata": {},
   "outputs": [
    {
     "name": "stdout",
     "output_type": "stream",
     "text": [
      "Fidelidades das rotas utilizadas:\n",
      "0.9193\n",
      "0.9178\n",
      "0.9817\n",
      "0.9518\n",
      "0.9338\n",
      "0.9144\n",
      "0.9129\n",
      "0.9765\n",
      "0.9467\n",
      "0.9288\n"
     ]
    }
   ],
   "source": [
    "rede.application_layer.print_route_fidelities()"
   ]
  },
  {
   "cell_type": "markdown",
   "metadata": {},
   "source": [
    "##### Nesse caso, foi executado o protocolo BFK, com parâmetros como 5 qubits para 5 rounds e 30 portas. Além da escolha de um nó como cliente= alice_id."
   ]
  },
  {
   "cell_type": "code",
   "execution_count": 6,
   "metadata": {},
   "outputs": [
    {
     "name": "stdout",
     "output_type": "stream",
     "text": [
      "          ┌───┐┌───┐                                      \n",
      "q_0: ─────┤ Y ├┤ Z ├─■─────────────X──────────────────────\n",
      "          └───┘└───┘ │             │       ┌───┐          \n",
      "q_1: ────────────────┼────────■────┼────■──┤ X ├──────────\n",
      "          ┌───┐      │        │    │    │  ├───┤┌───┐┌───┐\n",
      "q_2: ─────┤ Z ├──X───┼───■────┼────┼────┼──┤ Y ├┤ Y ├┤ Y ├\n",
      "     ┌───┐├───┤  │   │   │    │    │    │  └───┘├───┤└───┘\n",
      "q_3: ┤ Z ├┤ T ├──┼───■───┼────┼────┼────┼───────┤ X ├─────\n",
      "     └───┘└───┘  │       │    │    │    │  ┌───┐└─┬─┘     \n",
      "q_4: ────────────X───────┼────┼────┼────■──┤ H ├──■───────\n",
      "               ┌───┐     │    │    │       └───┘          \n",
      "q_5: ───────■──┤ Y ├─────┼────┼────┼──────────────────────\n",
      "     ┌───┐  │  ├───┤     │    │    │                      \n",
      "q_6: ┤ T ├──┼──┤ Y ├─────┼────┼────┼──────────────────────\n",
      "     ├───┤  │  └───┘   ┌─┴─┐  │    │  ┌───┐┌───┐          \n",
      "q_7: ┤ Y ├──┼────────X─┤ X ├──┼────┼──┤ Z ├┤ Z ├──────────\n",
      "     ├───┤  │  ┌───┐ │ ├───┤  │    │  └───┘└───┘          \n",
      "q_8: ┤ T ├──┼──┤ X ├─┼─┤ X ├──┼────X──────────────────────\n",
      "     └───┘┌─┴─┐└─┬─┘ │ └───┘┌─┴─┐┌───┐┌───┐               \n",
      "q_9: ─────┤ X ├──■───X──────┤ X ├┤ H ├┤ T ├───────────────\n",
      "          └───┘             └───┘└───┘└───┘               \n"
     ]
    },
    {
     "name": "stderr",
     "output_type": "stream",
     "text": [
      "2024-12-23 11:01:07,828: Circuito aleatório gerado com 10 qubits e 30 portas. Instruções sobre o circuito.\n",
      "2024-12-23 11:01:07,829: Instrução: {'operation': 't', 'qubits': [8]}\n",
      "2024-12-23 11:01:07,831: Instrução: {'operation': 'z', 'qubits': [3]}\n",
      "2024-12-23 11:01:07,832: Instrução: {'operation': 'cx', 'qubits': [5, 9]}\n",
      "2024-12-23 11:01:07,834: Instrução: {'operation': 'y', 'qubits': [7]}\n",
      "2024-12-23 11:01:07,835: Instrução: {'operation': 'cx', 'qubits': [9, 8]}\n",
      "2024-12-23 11:01:07,837: Instrução: {'operation': 't', 'qubits': [3]}\n",
      "2024-12-23 11:01:07,838: Instrução: {'operation': 'swap', 'qubits': [7, 9]}\n",
      "2024-12-23 11:01:07,839: Instrução: {'operation': 't', 'qubits': [6]}\n",
      "2024-12-23 11:01:07,840: Instrução: {'operation': 'z', 'qubits': [2]}\n",
      "2024-12-23 11:01:07,841: Instrução: {'operation': 'x', 'qubits': [8]}\n",
      "2024-12-23 11:01:07,842: Instrução: {'operation': 'cx', 'qubits': [1, 9]}\n",
      "2024-12-23 11:01:07,844: Instrução: {'operation': 'y', 'qubits': [0]}\n",
      "2024-12-23 11:01:07,845: Instrução: {'operation': 'swap', 'qubits': [2, 4]}\n",
      "2024-12-23 11:01:07,848: Instrução: {'operation': 'cx', 'qubits': [2, 7]}\n",
      "2024-12-23 11:01:07,849: Instrução: {'operation': 'z', 'qubits': [0]}\n",
      "2024-12-23 11:01:07,851: Instrução: {'operation': 'cz', 'qubits': [0, 3]}\n",
      "2024-12-23 11:01:07,852: Instrução: {'operation': 'y', 'qubits': [6]}\n",
      "2024-12-23 11:01:07,853: Instrução: {'operation': 'cz', 'qubits': [4, 1]}\n",
      "2024-12-23 11:01:07,854: Instrução: {'operation': 'h', 'qubits': [4]}\n",
      "2024-12-23 11:01:07,854: Instrução: {'operation': 'y', 'qubits': [2]}\n",
      "2024-12-23 11:01:07,855: Instrução: {'operation': 'z', 'qubits': [7]}\n",
      "2024-12-23 11:01:07,856: Instrução: {'operation': 'y', 'qubits': [2]}\n",
      "2024-12-23 11:01:07,857: Instrução: {'operation': 'y', 'qubits': [2]}\n",
      "2024-12-23 11:01:07,857: Instrução: {'operation': 'x', 'qubits': [1]}\n",
      "2024-12-23 11:01:07,858: Instrução: {'operation': 'swap', 'qubits': [0, 8]}\n",
      "2024-12-23 11:01:07,858: Instrução: {'operation': 'h', 'qubits': [9]}\n",
      "2024-12-23 11:01:07,859: Instrução: {'operation': 'z', 'qubits': [7]}\n",
      "2024-12-23 11:01:07,859: Instrução: {'operation': 'cx', 'qubits': [4, 3]}\n",
      "2024-12-23 11:01:07,860: Instrução: {'operation': 't', 'qubits': [9]}\n",
      "2024-12-23 11:01:07,861: Instrução: {'operation': 'y', 'qubits': [5]}\n",
      "2024-12-23 11:01:07,862: Timeslot 16. Iniciando protocolo BFK com 10 qubits, 10 rodadas, e cenário 1.\n",
      "2024-12-23 11:01:07,863: Memória do cliente 2 (Alice) limpa com sucesso.\n",
      "2024-12-23 11:01:07,865: Memória do servidor 0 (Bob) limpa com sucesso.\n",
      "2024-12-23 11:01:07,866: Timeslot 17.\n",
      "2024-12-23 11:01:07,868: Qubit 233 preparado pelo cliente 2.\n",
      "2024-12-23 11:01:07,869: Qubit 950 preparado pelo cliente 2.\n",
      "2024-12-23 11:01:07,869: Qubit 351 preparado pelo cliente 2.\n",
      "2024-12-23 11:01:07,870: Qubit 910 preparado pelo cliente 2.\n",
      "2024-12-23 11:01:07,871: Qubit 996 preparado pelo cliente 2.\n",
      "2024-12-23 11:01:07,873: Qubit 113 preparado pelo cliente 2.\n",
      "2024-12-23 11:01:07,874: Qubit 431 preparado pelo cliente 2.\n",
      "2024-12-23 11:01:07,874: Qubit 660 preparado pelo cliente 2.\n",
      "2024-12-23 11:01:07,875: Qubit 549 preparado pelo cliente 2.\n",
      "2024-12-23 11:01:07,876: Qubit 575 preparado pelo cliente 2.\n",
      "2024-12-23 11:01:07,877: Calculando rota padrão para o transporte.\n",
      "2024-12-23 11:01:07,877: Timeslot 18: Buscando rota válida entre 2 e 0.\n",
      "2024-12-23 11:01:07,878: Rota válida encontrada: [2, 1, 0]\n",
      "2024-12-23 11:01:07,879: Limpando pares EPRs residuais na rota: [2, 1, 0]\n",
      "2024-12-23 11:01:07,879: Pares EPRs limpos no segmento 2 -> 1.\n",
      "2024-12-23 11:01:07,879: Pares EPRs limpos no segmento 1 -> 0.\n",
      "2024-12-23 11:01:07,883: Qubit 0 adicionado à memória do Host 2.\n",
      "2024-12-23 11:01:07,884: Qubit 0 criado com fidelidade inicial 0.9783166489211534 e adicionado à memória do Host 2.\n",
      "2024-12-23 11:01:07,885: Qubit 1 adicionado à memória do Host 2.\n",
      "2024-12-23 11:01:07,885: Qubit 1 criado com fidelidade inicial 0.9924918480209189 e adicionado à memória do Host 2.\n",
      "2024-12-23 11:01:07,886: Qubit 2 adicionado à memória do Host 2.\n",
      "2024-12-23 11:01:07,886: Qubit 2 criado com fidelidade inicial 0.9763048725915218 e adicionado à memória do Host 2.\n",
      "2024-12-23 11:01:07,887: Qubit 3 adicionado à memória do Host 2.\n",
      "2024-12-23 11:01:07,888: Qubit 3 criado com fidelidade inicial 0.967251212885665 e adicionado à memória do Host 2.\n",
      "2024-12-23 11:01:07,888: Qubit 4 adicionado à memória do Host 2.\n",
      "2024-12-23 11:01:07,889: Qubit 4 criado com fidelidade inicial 0.9504806030991364 e adicionado à memória do Host 2.\n",
      "2024-12-23 11:01:07,889: Qubit 5 adicionado à memória do Host 2.\n",
      "2024-12-23 11:01:07,890: Qubit 5 criado com fidelidade inicial 0.9873639539501211 e adicionado à memória do Host 2.\n",
      "2024-12-23 11:01:07,891: Qubit 6 adicionado à memória do Host 2.\n",
      "2024-12-23 11:01:07,892: Qubit 6 criado com fidelidade inicial 0.972047348402538 e adicionado à memória do Host 2.\n",
      "2024-12-23 11:01:07,894: Qubit 7 adicionado à memória do Host 2.\n",
      "2024-12-23 11:01:07,894: Qubit 7 criado com fidelidade inicial 0.9902358122004739 e adicionado à memória do Host 2.\n",
      "2024-12-23 11:01:07,894: Qubit 8 adicionado à memória do Host 2.\n",
      "2024-12-23 11:01:07,894: Qubit 8 criado com fidelidade inicial 0.9657782918523506 e adicionado à memória do Host 2.\n",
      "2024-12-23 11:01:07,898: Qubit 9 adicionado à memória do Host 2.\n",
      "2024-12-23 11:01:07,900: Qubit 9 criado com fidelidade inicial 0.9621179133371952 e adicionado à memória do Host 2.\n",
      "2024-12-23 11:01:07,901: Timeslot 18 Usando a rota fornecida: [2, 1, 0]\n",
      "2024-12-23 11:01:07,902: Timeslot 18 Iniciando criação de pares EPRs para o Cenário 1.\n",
      "2024-12-23 11:01:07,902: Par EPR <quantumnet.objects.epr.Epr object at 0x000001D57038E090> adicionado ao canal (2, 1).\n",
      "2024-12-23 11:01:07,904: Timeslot 18 Par EPR criado e adicionado ao canal 2 -> 1. Avançando timeslot...\n",
      "2024-12-23 11:01:07,905: Par EPR <quantumnet.objects.epr.Epr object at 0x000001D57045F6D0> adicionado ao canal (1, 0).\n",
      "2024-12-23 11:01:07,905: Timeslot 19 Par EPR criado e adicionado ao canal 1 -> 0. Avançando timeslot...\n",
      "2024-12-23 11:01:07,907: Timeslot 20 EPR consumido no segmento 2 -> 1 com fidelidade 0.9982.\n",
      "2024-12-23 11:01:07,908: Timeslot 20 EPR consumido no segmento 1 -> 0 com fidelidade 0.9991.\n",
      "2024-12-23 11:01:07,910: Timeslot 21 Fidelidade final do teletransporte: 0.9245\n",
      "2024-12-23 11:01:07,910: Timeslot 21 Iniciando criação de pares EPRs para o Cenário 1.\n",
      "2024-12-23 11:01:07,910: Par EPR <quantumnet.objects.epr.Epr object at 0x000001D5704B5CD0> adicionado ao canal (2, 1).\n",
      "2024-12-23 11:01:07,910: Timeslot 21 Par EPR criado e adicionado ao canal 2 -> 1. Avançando timeslot...\n",
      "2024-12-23 11:01:07,910: Par EPR <quantumnet.objects.epr.Epr object at 0x000001D57045C850> adicionado ao canal (1, 0).\n",
      "2024-12-23 11:01:07,910: Timeslot 22 Par EPR criado e adicionado ao canal 1 -> 0. Avançando timeslot...\n",
      "2024-12-23 11:01:07,914: Timeslot 23 EPR consumido no segmento 2 -> 1 com fidelidade 0.9982.\n",
      "2024-12-23 11:01:07,914: Timeslot 23 EPR consumido no segmento 1 -> 0 com fidelidade 0.9991.\n",
      "2024-12-23 11:01:07,915: Timeslot 24 Fidelidade final do teletransporte: 0.9424\n",
      "2024-12-23 11:01:07,916: Timeslot 24 Iniciando criação de pares EPRs para o Cenário 1.\n",
      "2024-12-23 11:01:07,917: Par EPR <quantumnet.objects.epr.Epr object at 0x000001D5704C1790> adicionado ao canal (2, 1).\n",
      "2024-12-23 11:01:07,917: Timeslot 24 Par EPR criado e adicionado ao canal 2 -> 1. Avançando timeslot...\n",
      "2024-12-23 11:01:07,919: Par EPR <quantumnet.objects.epr.Epr object at 0x000001D57045E690> adicionado ao canal (1, 0).\n",
      "2024-12-23 11:01:07,919: Timeslot 25 Par EPR criado e adicionado ao canal 1 -> 0. Avançando timeslot...\n",
      "2024-12-23 11:01:07,920: Timeslot 26 EPR consumido no segmento 2 -> 1 com fidelidade 0.9982.\n",
      "2024-12-23 11:01:07,921: Timeslot 26 EPR consumido no segmento 1 -> 0 com fidelidade 0.9991.\n",
      "2024-12-23 11:01:07,922: Timeslot 27 Fidelidade final do teletransporte: 0.9857\n",
      "2024-12-23 11:01:07,922: Timeslot 27 Iniciando criação de pares EPRs para o Cenário 1.\n",
      "2024-12-23 11:01:07,923: Par EPR <quantumnet.objects.epr.Epr object at 0x000001D5704C1790> adicionado ao canal (2, 1).\n",
      "2024-12-23 11:01:07,924: Timeslot 27 Par EPR criado e adicionado ao canal 2 -> 1. Avançando timeslot...\n",
      "2024-12-23 11:01:07,924: Par EPR <quantumnet.objects.epr.Epr object at 0x000001D57045D710> adicionado ao canal (1, 0).\n",
      "2024-12-23 11:01:07,925: Timeslot 28 Par EPR criado e adicionado ao canal 1 -> 0. Avançando timeslot...\n",
      "2024-12-23 11:01:07,925: Timeslot 29 EPR consumido no segmento 2 -> 1 com fidelidade 0.9982.\n",
      "2024-12-23 11:01:07,926: Timeslot 29 EPR consumido no segmento 1 -> 0 com fidelidade 0.9991.\n",
      "2024-12-23 11:01:07,927: Timeslot 30 Fidelidade final do teletransporte: 0.9736\n",
      "2024-12-23 11:01:07,927: Timeslot 30 Iniciando criação de pares EPRs para o Cenário 1.\n",
      "2024-12-23 11:01:07,928: Par EPR <quantumnet.objects.epr.Epr object at 0x000001D57047C990> adicionado ao canal (2, 1).\n",
      "2024-12-23 11:01:07,928: Timeslot 30 Par EPR criado e adicionado ao canal 2 -> 1. Avançando timeslot...\n",
      "2024-12-23 11:01:07,929: Par EPR <quantumnet.objects.epr.Epr object at 0x000001D57045DFD0> adicionado ao canal (1, 0).\n",
      "2024-12-23 11:01:07,930: Timeslot 31 Par EPR criado e adicionado ao canal 1 -> 0. Avançando timeslot...\n",
      "2024-12-23 11:01:07,930: Timeslot 32 EPR consumido no segmento 2 -> 1 com fidelidade 0.9982.\n",
      "2024-12-23 11:01:07,931: Timeslot 32 EPR consumido no segmento 1 -> 0 com fidelidade 0.9991.\n",
      "2024-12-23 11:01:07,932: Timeslot 33 Fidelidade final do teletransporte: 0.9439\n",
      "2024-12-23 11:01:07,933: Timeslot 33 Iniciando criação de pares EPRs para o Cenário 1.\n",
      "2024-12-23 11:01:07,933: Par EPR <quantumnet.objects.epr.Epr object at 0x000001D570396A90> adicionado ao canal (2, 1).\n",
      "2024-12-23 11:01:07,933: Timeslot 33 Par EPR criado e adicionado ao canal 2 -> 1. Avançando timeslot...\n",
      "2024-12-23 11:01:07,933: Par EPR <quantumnet.objects.epr.Epr object at 0x000001D57043FA90> adicionado ao canal (1, 0).\n",
      "2024-12-23 11:01:07,933: Timeslot 34 Par EPR criado e adicionado ao canal 1 -> 0. Avançando timeslot...\n",
      "2024-12-23 11:01:07,933: Timeslot 35 EPR consumido no segmento 2 -> 1 com fidelidade 0.9982.\n",
      "2024-12-23 11:01:07,933: Timeslot 35 EPR consumido no segmento 1 -> 0 com fidelidade 0.9991.\n",
      "2024-12-23 11:01:07,933: Timeslot 36 Fidelidade final do teletransporte: 0.9533\n",
      "2024-12-23 11:01:07,933: Timeslot 36 Iniciando criação de pares EPRs para o Cenário 1.\n",
      "2024-12-23 11:01:07,933: Par EPR <quantumnet.objects.epr.Epr object at 0x000001D570394F10> adicionado ao canal (2, 1).\n",
      "2024-12-23 11:01:07,933: Timeslot 36 Par EPR criado e adicionado ao canal 2 -> 1. Avançando timeslot...\n",
      "2024-12-23 11:01:07,933: Par EPR <quantumnet.objects.epr.Epr object at 0x000001D5703D5010> adicionado ao canal (1, 0).\n",
      "2024-12-23 11:01:07,933: Timeslot 37 Par EPR criado e adicionado ao canal 1 -> 0. Avançando timeslot...\n",
      "2024-12-23 11:01:07,933: Timeslot 38 EPR consumido no segmento 2 -> 1 com fidelidade 0.9982.\n",
      "2024-12-23 11:01:07,933: Timeslot 38 EPR consumido no segmento 1 -> 0 com fidelidade 0.9991.\n",
      "2024-12-23 11:01:07,933: Timeslot 39 Fidelidade final do teletransporte: 0.9583\n",
      "2024-12-23 11:01:07,933: Timeslot 39 Iniciando criação de pares EPRs para o Cenário 1.\n",
      "2024-12-23 11:01:07,933: Par EPR <quantumnet.objects.epr.Epr object at 0x000001D56F2F4A50> adicionado ao canal (2, 1).\n",
      "2024-12-23 11:01:07,933: Timeslot 39 Par EPR criado e adicionado ao canal 2 -> 1. Avançando timeslot...\n",
      "2024-12-23 11:01:07,933: Par EPR <quantumnet.objects.epr.Epr object at 0x000001D570394F10> adicionado ao canal (1, 0).\n",
      "2024-12-23 11:01:07,933: Timeslot 40 Par EPR criado e adicionado ao canal 1 -> 0. Avançando timeslot...\n",
      "2024-12-23 11:01:07,933: Timeslot 41 EPR consumido no segmento 2 -> 1 com fidelidade 0.9982.\n",
      "2024-12-23 11:01:07,933: Timeslot 41 EPR consumido no segmento 1 -> 0 com fidelidade 0.9991.\n",
      "2024-12-23 11:01:07,933: Timeslot 42 Fidelidade final do teletransporte: 0.9300\n",
      "2024-12-23 11:01:07,933: Timeslot 42 Iniciando criação de pares EPRs para o Cenário 1.\n",
      "2024-12-23 11:01:07,933: Par EPR <quantumnet.objects.epr.Epr object at 0x000001D5703AFD10> adicionado ao canal (2, 1).\n",
      "2024-12-23 11:01:07,933: Timeslot 42 Par EPR criado e adicionado ao canal 2 -> 1. Avançando timeslot...\n",
      "2024-12-23 11:01:07,948: Par EPR <quantumnet.objects.epr.Epr object at 0x000001D57045F690> adicionado ao canal (1, 0).\n",
      "2024-12-23 11:01:07,948: Timeslot 43 Par EPR criado e adicionado ao canal 1 -> 0. Avançando timeslot...\n",
      "2024-12-23 11:01:07,948: Timeslot 44 EPR consumido no segmento 2 -> 1 com fidelidade 0.9982.\n",
      "2024-12-23 11:01:07,948: Timeslot 44 EPR consumido no segmento 1 -> 0 com fidelidade 0.9991.\n",
      "2024-12-23 11:01:07,948: Timeslot 45 Fidelidade final do teletransporte: 0.9480\n",
      "2024-12-23 11:01:07,948: Timeslot 45 Iniciando criação de pares EPRs para o Cenário 1.\n",
      "2024-12-23 11:01:07,948: Par EPR <quantumnet.objects.epr.Epr object at 0x000001D570400310> adicionado ao canal (2, 1).\n",
      "2024-12-23 11:01:07,948: Timeslot 45 Par EPR criado e adicionado ao canal 2 -> 1. Avançando timeslot...\n",
      "2024-12-23 11:01:07,948: Par EPR <quantumnet.objects.epr.Epr object at 0x000001D57045F690> adicionado ao canal (1, 0).\n",
      "2024-12-23 11:01:07,948: Timeslot 46 Par EPR criado e adicionado ao canal 1 -> 0. Avançando timeslot...\n",
      "2024-12-23 11:01:07,948: Timeslot 47 EPR consumido no segmento 2 -> 1 com fidelidade 0.9982.\n",
      "2024-12-23 11:01:07,948: Timeslot 47 EPR consumido no segmento 1 -> 0 com fidelidade 0.9991.\n",
      "2024-12-23 11:01:07,948: Timeslot 48 Fidelidade final do teletransporte: 0.8958\n",
      "2024-12-23 11:01:07,948: Timeslot 48 Foram utilizados 20 pares EPRs ao longo da transmissão.\n",
      "2024-12-23 11:01:07,948: Pares EPRs restantes na rota:\n",
      "2024-12-23 11:01:07,948: Timeslot 48 Segmento 2 -> 1: 0 pares EPRs restantes.\n",
      "2024-12-23 11:01:07,948: Timeslot 48 Segmento 1 -> 0: 0 pares EPRs restantes.\n",
      "2024-12-23 11:01:07,948: Timeslot 48 Transmissão de 10 qubits entre 2 e 0 concluída com sucesso.\n",
      "2024-12-23 11:01:07,948: Timeslot 49.\n",
      "2024-12-23 11:01:07,948: Servidor 0 criou um estado de brickwork com 10 qubits.\n",
      "2024-12-23 11:01:07,948: Rodada 1: Cliente 2 envia ângulo de medição 2.938120736461124 ao servidor.\n",
      "2024-12-23 11:01:07,948: Timeslot 50.Servidor realiza a medição do qubit.\n",
      "2024-12-23 11:01:07,948: Servidor 0 realizou a medição do qubit na base 2.938120736461124, com resultado 1.\n",
      "2024-12-23 11:01:07,948: Timeslot 51.Cliente ajusta a próxima base de medição.\n",
      "2024-12-23 11:01:07,948: Cliente 2 ajustou a próxima base de medição para 3.0381207364611242.\n",
      "2024-12-23 11:01:07,948: Rodada 2: Cliente 2 envia ângulo de medição 5.443270916199907 ao servidor.\n",
      "2024-12-23 11:01:07,948: Timeslot 52.Servidor realiza a medição do qubit.\n",
      "2024-12-23 11:01:07,948: Servidor 0 realizou a medição do qubit na base 5.443270916199907, com resultado 0.\n",
      "2024-12-23 11:01:07,948: Timeslot 53.Cliente ajusta a próxima base de medição.\n",
      "2024-12-23 11:01:07,948: Cliente 2 ajustou a próxima base de medição para 5.3432709161999075.\n",
      "2024-12-23 11:01:07,948: Rodada 3: Cliente 2 envia ângulo de medição 4.104708444672552 ao servidor.\n",
      "2024-12-23 11:01:07,948: Timeslot 54.Servidor realiza a medição do qubit.\n",
      "2024-12-23 11:01:07,948: Servidor 0 realizou a medição do qubit na base 4.104708444672552, com resultado 1.\n",
      "2024-12-23 11:01:07,963: Timeslot 55.Cliente ajusta a próxima base de medição.\n",
      "2024-12-23 11:01:07,964: Cliente 2 ajustou a próxima base de medição para 4.204708444672551.\n",
      "2024-12-23 11:01:07,964: Rodada 4: Cliente 2 envia ângulo de medição 2.8324170775311965 ao servidor.\n",
      "2024-12-23 11:01:07,965: Timeslot 56.Servidor realiza a medição do qubit.\n",
      "2024-12-23 11:01:07,965: Servidor 0 realizou a medição do qubit na base 2.8324170775311965, com resultado 1.\n",
      "2024-12-23 11:01:07,966: Timeslot 57.Cliente ajusta a próxima base de medição.\n",
      "2024-12-23 11:01:07,966: Cliente 2 ajustou a próxima base de medição para 2.9324170775311966.\n",
      "2024-12-23 11:01:07,966: Rodada 5: Cliente 2 envia ângulo de medição 2.208028309738403 ao servidor.\n",
      "2024-12-23 11:01:07,967: Timeslot 58.Servidor realiza a medição do qubit.\n",
      "2024-12-23 11:01:07,967: Servidor 0 realizou a medição do qubit na base 2.208028309738403, com resultado 0.\n",
      "2024-12-23 11:01:07,968: Timeslot 59.Cliente ajusta a próxima base de medição.\n",
      "2024-12-23 11:01:07,968: Cliente 2 ajustou a próxima base de medição para 2.108028309738403.\n",
      "2024-12-23 11:01:07,968: Rodada 6: Cliente 2 envia ângulo de medição 1.2334680828565836 ao servidor.\n",
      "2024-12-23 11:01:07,969: Timeslot 60.Servidor realiza a medição do qubit.\n",
      "2024-12-23 11:01:07,969: Servidor 0 realizou a medição do qubit na base 1.2334680828565836, com resultado 0.\n",
      "2024-12-23 11:01:07,970: Timeslot 61.Cliente ajusta a próxima base de medição.\n",
      "2024-12-23 11:01:07,970: Cliente 2 ajustou a próxima base de medição para 1.1334680828565835.\n",
      "2024-12-23 11:01:07,970: Rodada 7: Cliente 2 envia ângulo de medição 0.3789920266237154 ao servidor.\n",
      "2024-12-23 11:01:07,971: Timeslot 62.Servidor realiza a medição do qubit.\n",
      "2024-12-23 11:01:07,971: Servidor 0 realizou a medição do qubit na base 0.3789920266237154, com resultado 0.\n",
      "2024-12-23 11:01:07,972: Timeslot 63.Cliente ajusta a próxima base de medição.\n",
      "2024-12-23 11:01:07,972: Cliente 2 ajustou a próxima base de medição para 0.27899202662371536.\n",
      "2024-12-23 11:01:07,972: Rodada 8: Cliente 2 envia ângulo de medição 0.560788902549497 ao servidor.\n",
      "2024-12-23 11:01:07,973: Timeslot 64.Servidor realiza a medição do qubit.\n",
      "2024-12-23 11:01:07,973: Servidor 0 realizou a medição do qubit na base 0.560788902549497, com resultado 0.\n",
      "2024-12-23 11:01:07,974: Timeslot 65.Cliente ajusta a próxima base de medição.\n",
      "2024-12-23 11:01:07,974: Cliente 2 ajustou a próxima base de medição para 0.460788902549497.\n",
      "2024-12-23 11:01:07,975: Rodada 9: Cliente 2 envia ângulo de medição 3.2709112565598772 ao servidor.\n",
      "2024-12-23 11:01:07,975: Timeslot 66.Servidor realiza a medição do qubit.\n",
      "2024-12-23 11:01:07,976: Servidor 0 realizou a medição do qubit na base 3.2709112565598772, com resultado 1.\n",
      "2024-12-23 11:01:07,976: Timeslot 67.Cliente ajusta a próxima base de medição.\n",
      "2024-12-23 11:01:07,976: Cliente 2 ajustou a próxima base de medição para 3.3709112565598773.\n",
      "2024-12-23 11:01:07,978: Rodada 10: Cliente 2 envia ângulo de medição 2.225705052382361 ao servidor.\n",
      "2024-12-23 11:01:07,978: Timeslot 68.Servidor realiza a medição do qubit.\n",
      "2024-12-23 11:01:07,979: Servidor 0 realizou a medição do qubit na base 2.225705052382361, com resultado 0.\n",
      "2024-12-23 11:01:07,979: Timeslot 69.Cliente ajusta a próxima base de medição.\n",
      "2024-12-23 11:01:07,980: Cliente 2 ajustou a próxima base de medição para 2.125705052382361.\n",
      "2024-12-23 11:01:07,981: Protocolo BFK concluído com sucesso. Resultados: [1, 0, 1, 1, 0, 0, 0, 0, 1, 0]\n"
     ]
    }
   ],
   "source": [
    "circuito, num_qubits = rede.generate_random_circuit(num_qubits=10, num_gates=30)\n",
    "resultado_bfk = rede.application_layer.run_app(\"BFK_BQC\", alice_id=2, bob_id=0, num_qubits=num_qubits, num_rounds=10, scenario=1)"
   ]
  },
  {
   "cell_type": "markdown",
   "metadata": {},
   "source": [
    "##### Nessa função, podemos coletar a métrica da média da fidelidade dos pares EPRs utilizados nas duas requesições."
   ]
  },
  {
   "cell_type": "code",
   "execution_count": 7,
   "metadata": {},
   "outputs": [
    {
     "name": "stdout",
     "output_type": "stream",
     "text": [
      "A média das fidelidades das rotas é: 0.9420\n"
     ]
    },
    {
     "data": {
      "text/plain": [
       "0.9419567183723927"
      ]
     },
     "execution_count": 7,
     "metadata": {},
     "output_type": "execute_result"
    }
   ],
   "source": [
    "rede.application_layer.avg_fidelity_on_applicationlayer()"
   ]
  },
  {
   "cell_type": "markdown",
   "metadata": {},
   "source": [
    "##### Além de printar as fidelidades das rotas."
   ]
  },
  {
   "cell_type": "code",
   "execution_count": 8,
   "metadata": {},
   "outputs": [
    {
     "name": "stdout",
     "output_type": "stream",
     "text": [
      "Fidelidades das rotas utilizadas:\n",
      "0.9193\n",
      "0.9178\n",
      "0.9817\n",
      "0.9518\n",
      "0.9338\n",
      "0.9144\n",
      "0.9129\n",
      "0.9765\n",
      "0.9467\n",
      "0.9288\n",
      "0.9245\n",
      "0.9424\n",
      "0.9857\n",
      "0.9736\n",
      "0.9439\n",
      "0.9533\n",
      "0.9583\n",
      "0.9300\n",
      "0.9480\n",
      "0.8958\n"
     ]
    }
   ],
   "source": [
    "rede.application_layer.print_route_fidelities()"
   ]
  },
  {
   "cell_type": "markdown",
   "metadata": {},
   "source": [
    "##### Pode ser coletado os EPRs utilizados na camada de aplicação, consequentemente nas requesições e protocolos."
   ]
  },
  {
   "cell_type": "code",
   "execution_count": 9,
   "metadata": {},
   "outputs": [
    {
     "name": "stderr",
     "output_type": "stream",
     "text": [
      "2024-12-23 11:01:08,015: Eprs criados na camada PhysicalLayer: 10\n",
      "2024-12-23 11:01:08,016: Eprs usados na camada LinkLayer: 0\n",
      "2024-12-23 11:01:08,018: Eprs usados na camada NetworkLayer: 0\n",
      "2024-12-23 11:01:08,020: Eprs usados na camada ApplicationLayer: 40\n"
     ]
    },
    {
     "data": {
      "text/plain": [
       "50"
      ]
     },
     "execution_count": 9,
     "metadata": {},
     "output_type": "execute_result"
    }
   ],
   "source": [
    "rede.get_total_useds_eprs()"
   ]
  }
 ],
 "metadata": {
  "kernelspec": {
   "display_name": "Python 3",
   "language": "python",
   "name": "python3"
  },
  "language_info": {
   "codemirror_mode": {
    "name": "ipython",
    "version": 3
   },
   "file_extension": ".py",
   "mimetype": "text/x-python",
   "name": "python",
   "nbconvert_exporter": "python",
   "pygments_lexer": "ipython3",
   "version": "3.11.4"
  }
 },
 "nbformat": 4,
 "nbformat_minor": 4
}
